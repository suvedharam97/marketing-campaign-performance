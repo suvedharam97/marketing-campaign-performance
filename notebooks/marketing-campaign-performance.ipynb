{
 "cells": [
  {
   "cell_type": "code",
   "execution_count": null,
   "metadata": {},
   "outputs": [
    {
     "name": "stderr",
     "output_type": "stream",
     "text": [
      "/Users/suvedharam/Documents/marketing-campaign-performance/.venv/lib/python3.9/site-packages/urllib3/__init__.py:35: NotOpenSSLWarning: urllib3 v2 only supports OpenSSL 1.1.1+, currently the 'ssl' module is compiled with 'LibreSSL 2.8.3'. See: https://github.com/urllib3/urllib3/issues/3020\n",
      "  warnings.warn(\n",
      "/Users/suvedharam/Documents/marketing-campaign-performance/.venv/lib/python3.9/site-packages/tqdm/auto.py:21: TqdmWarning: IProgress not found. Please update jupyter and ipywidgets. See https://ipywidgets.readthedocs.io/en/stable/user_install.html\n",
      "  from .autonotebook import tqdm as notebook_tqdm\n"
     ]
    },
    {
     "name": "stdout",
     "output_type": "stream",
     "text": [
      "Downloading from https://www.kaggle.com/api/v1/datasets/download/manishabhatt22/marketing-campaign-performance-dataset?dataset_version_number=1...\n"
     ]
    },
    {
     "name": "stderr",
     "output_type": "stream",
     "text": [
      "100%|██████████| 5.02M/5.02M [00:00<00:00, 17.5MB/s]"
     ]
    },
    {
     "name": "stdout",
     "output_type": "stream",
     "text": [
      "Extracting files...\n",
      "Path to dataset files: /Users/suvedharam/.cache/kagglehub/datasets/manishabhatt22/marketing-campaign-performance-dataset/versions/1\n"
     ]
    },
    {
     "name": "stderr",
     "output_type": "stream",
     "text": [
      "\n"
     ]
    }
   ],
   "source": [
    "import kagglehub\n",
    "\n",
    "# Download latest version of the dataset from Kaggle\n",
    "path = kagglehub.dataset_download(\"manishabhatt22/marketing-campaign-performance-dataset\")\n",
    "\n",
    "print(\"Path to dataset files:\", path)"
   ]
  },
  {
   "cell_type": "markdown",
   "metadata": {},
   "source": [
    "# Import Libraries \n",
    "\n",
    "This section of the notebook lists and imports the necessary libraries required for analyzing and evaluating the performance of a marketing campaign. These libraries may include tools for data manipulation, visualization, statistical analysis, and machine learning, depending on the scope of the analysis.\n",
    "Libraries Used"
   ]
  },
  {
   "cell_type": "code",
   "execution_count": 19,
   "metadata": {},
   "outputs": [],
   "source": [
    "import pandas as pd\n",
    "import numpy as np\n",
    "import matplotlib.pyplot as plt\n",
    "import seaborn as sns\n",
    "\n",
    "\n",
    "from sklearn.model_selection import train_test_split\n",
    "from sklearn.linear_model import LogisticRegression\n",
    "from sklearn.preprocessing import StandardScaler\n",
    "from sklearn.metrics import classification_report\n",
    "\n",
    "\n",
    "from statsmodels.stats.proportion import proportions_ztest\n",
    "from scipy.stats import chi2_contingency  # Optional: for chi-squared test\n",
    "from scipy.stats import f_oneway\n",
    "from scipy.stats import ttest_ind\n",
    "from statsmodels.stats.multicomp import pairwise_tukeyhsd\n"
   ]
  },
  {
   "cell_type": "markdown",
   "metadata": {},
   "source": [
    "# Reading Data to a DataFrame"
   ]
  },
  {
   "cell_type": "code",
   "execution_count": 11,
   "metadata": {},
   "outputs": [
    {
     "name": "stdout",
     "output_type": "stream",
     "text": [
      "Index(['Campaign_ID', 'Company', 'Campaign_Type', 'Target_Audience',\n",
      "       'Duration', 'Channel_Used', 'Conversion_Rate', 'Acquisition_Cost',\n",
      "       'ROI', 'Location', 'Language', 'Clicks', 'Impressions',\n",
      "       'Engagement_Score', 'Customer_Segment', 'Date'],\n",
      "      dtype='object')\n"
     ]
    }
   ],
   "source": [
    "df = pd.read_csv('../data/raw/marketing_campaign_dataset.csv')\n",
    "\n",
    "print(df.columns)"
   ]
  },
  {
   "cell_type": "markdown",
   "metadata": {},
   "source": [
    "# Exploratory Data Analysis"
   ]
  },
  {
   "cell_type": "markdown",
   "metadata": {},
   "source": [
    "#### Column Data Types and Null Value Check"
   ]
  },
  {
   "cell_type": "code",
   "execution_count": 12,
   "metadata": {},
   "outputs": [
    {
     "name": "stdout",
     "output_type": "stream",
     "text": [
      "<class 'pandas.core.frame.DataFrame'>\n",
      "RangeIndex: 200000 entries, 0 to 199999\n",
      "Data columns (total 16 columns):\n",
      " #   Column            Non-Null Count   Dtype  \n",
      "---  ------            --------------   -----  \n",
      " 0   Campaign_ID       200000 non-null  int64  \n",
      " 1   Company           200000 non-null  object \n",
      " 2   Campaign_Type     200000 non-null  object \n",
      " 3   Target_Audience   200000 non-null  object \n",
      " 4   Duration          200000 non-null  object \n",
      " 5   Channel_Used      200000 non-null  object \n",
      " 6   Conversion_Rate   200000 non-null  float64\n",
      " 7   Acquisition_Cost  200000 non-null  object \n",
      " 8   ROI               200000 non-null  float64\n",
      " 9   Location          200000 non-null  object \n",
      " 10  Language          200000 non-null  object \n",
      " 11  Clicks            200000 non-null  int64  \n",
      " 12  Impressions       200000 non-null  int64  \n",
      " 13  Engagement_Score  200000 non-null  int64  \n",
      " 14  Customer_Segment  200000 non-null  object \n",
      " 15  Date              200000 non-null  object \n",
      "dtypes: float64(2), int64(4), object(10)\n",
      "memory usage: 24.4+ MB\n"
     ]
    },
    {
     "data": {
      "text/plain": [
       "Campaign_ID         0\n",
       "Company             0\n",
       "Campaign_Type       0\n",
       "Target_Audience     0\n",
       "Duration            0\n",
       "Channel_Used        0\n",
       "Conversion_Rate     0\n",
       "Acquisition_Cost    0\n",
       "ROI                 0\n",
       "Location            0\n",
       "Language            0\n",
       "Clicks              0\n",
       "Impressions         0\n",
       "Engagement_Score    0\n",
       "Customer_Segment    0\n",
       "Date                0\n",
       "dtype: int64"
      ]
     },
     "execution_count": 12,
     "metadata": {},
     "output_type": "execute_result"
    }
   ],
   "source": [
    "df.info()\n",
    "df.isnull().sum()"
   ]
  },
  {
   "cell_type": "markdown",
   "metadata": {},
   "source": [
    "#### Converting Datatype for Acquisition Cost and Date"
   ]
  },
  {
   "cell_type": "code",
   "execution_count": 13,
   "metadata": {},
   "outputs": [],
   "source": [
    "#Convert 'Acquisition_Cost' to numeric\n",
    "df['Acquisition_Cost'] = df['Acquisition_Cost'].replace('[\\$,]', '', regex=True).astype(float)\n",
    "#Conver date columns to datetime\n",
    "df[\"Date\"] = pd.to_datetime(df[\"Date\"])"
   ]
  },
  {
   "cell_type": "markdown",
   "metadata": {},
   "source": [
    "#### Uniques Values in Object column and Range in Numeric Columns"
   ]
  },
  {
   "cell_type": "code",
   "execution_count": 14,
   "metadata": {},
   "outputs": [
    {
     "name": "stdout",
     "output_type": "stream",
     "text": [
      "Campaign_ID: 1 to 200000\n",
      "Company: 5 unique values\n",
      "Categories in Company: ['Innovate Industries' 'NexGen Systems' 'Alpha Innovations'\n",
      " 'DataTech Solutions' 'TechCorp']\n",
      "Campaign_Type: 5 unique values\n",
      "Categories in Campaign_Type: ['Email' 'Influencer' 'Display' 'Search' 'Social Media']\n",
      "Target_Audience: 5 unique values\n",
      "Categories in Target_Audience: ['Men 18-24' 'Women 35-44' 'Men 25-34' 'All Ages' 'Women 25-34']\n",
      "Duration: 4 unique values\n",
      "Categories in Duration: ['30 days' '60 days' '15 days' '45 days']\n",
      "Channel_Used: 6 unique values\n",
      "Categories in Channel_Used: ['Google Ads' 'YouTube' 'Instagram' 'Website' 'Facebook' 'Email']\n",
      "Conversion_Rate: 0.01 to 0.15\n",
      "Acquisition_Cost: 5000.0 to 20000.0\n",
      "ROI: 2.0 to 8.0\n",
      "Location: 5 unique values\n",
      "Categories in Location: ['Chicago' 'New York' 'Los Angeles' 'Miami' 'Houston']\n",
      "Language: 5 unique values\n",
      "Categories in Language: ['Spanish' 'German' 'French' 'Mandarin' 'English']\n",
      "Clicks: 100 to 1000\n",
      "Impressions: 1000 to 10000\n",
      "Engagement_Score: 1 to 10\n",
      "Customer_Segment: 5 unique values\n",
      "Categories in Customer_Segment: ['Health & Wellness' 'Fashionistas' 'Outdoor Adventurers' 'Foodies'\n",
      " 'Tech Enthusiasts']\n",
      "Date: 2021-01-01 00:00:00 to 2021-12-31 00:00:00\n"
     ]
    }
   ],
   "source": [
    "#distinct values in all object columns and the range of numeric columns\n",
    "for col in df.columns:\n",
    "    if df[col].dtype == 'object':\n",
    "        print(f\"{col}: {df[col].nunique()} unique values\")\n",
    "        print(f\"Categories in {col}: {df[col].unique()}\")\n",
    "    else:\n",
    "        print(f\"{col}: {df[col].min()} to {df[col].max()}\")\n",
    "        "
   ]
  },
  {
   "cell_type": "markdown",
   "metadata": {},
   "source": [
    "## Visualizations"
   ]
  },
  {
   "cell_type": "code",
   "execution_count": 15,
   "metadata": {},
   "outputs": [
    {
     "data": {
      "image/png": "[encoded data removed]",
      "text/plain": [
       "<Figure size 1000x600 with 1 Axes>"
      ]
     },
     "metadata": {},
     "output_type": "display_data"
    }
   ],
   "source": [
    "#Visualizing Conversion_Rate by Campaign Type\n",
    "plt.figure(figsize=(10, 6))\n",
    "sns.boxplot(data=df, x='Campaign_Type', y='Conversion_Rate')\n",
    "plt.title('Conversion_Rate by Campaign Type')\n",
    "plt.xlabel('Campaign Type')\n",
    "plt.ylabel('Conversion_Rate')\n",
    "plt.show()"
   ]
  },
  {
   "cell_type": "code",
   "execution_count": 16,
   "metadata": {},
   "outputs": [
    {
     "data": {
      "image/png": "[encoded data removed]",
      "text/plain": [
       "<Figure size 1000x600 with 1 Axes>"
      ]
     },
     "metadata": {},
     "output_type": "display_data"
    }
   ],
   "source": [
    "#Visualizing ROI by Campaign Type\n",
    "plt.figure(figsize=(10, 6))\n",
    "sns.boxplot(data=df, x='Campaign_Type', y='ROI')\n",
    "plt.title('ROI by Campaign Type')\n",
    "plt.xlabel('Campaign Type')\n",
    "plt.ylabel('ROI')\n",
    "plt.show()"
   ]
  },
  {
   "cell_type": "code",
   "execution_count": 17,
   "metadata": {},
   "outputs": [
    {
     "data": {
      "image/png": "[encoded data removed]",
      "text/plain": [
       "<Figure size 1000x600 with 1 Axes>"
      ]
     },
     "metadata": {},
     "output_type": "display_data"
    }
   ],
   "source": [
    "#Visualizing Acquisition Cost by Campaign Type\n",
    "plt.figure(figsize=(10, 6))\n",
    "sns.boxplot(data=df, x='Campaign_Type', y='Acquisition_Cost')\n",
    "plt.title('Acquisition_Cost by Campaign Type')\n",
    "plt.xlabel('Campaign Type')\n",
    "plt.ylabel('Acquisition_Cost')\n",
    "plt.show()"
   ]
  },
  {
   "cell_type": "markdown",
   "metadata": {},
   "source": [
    "### Problem 1: A/B Testing for Conversion Rate on Two Campaign Types\n",
    "\n",
    "A company has launched two marketing campaigns to increase user sign-ups:\n",
    "\n",
    "- **Campaign A**: Email Campaign  \n",
    "- **Campaign B**: Influencer Marketing Campaign  \n",
    "\n",
    "#### Objective:  \n",
    "Determine which campaign leads to a higher conversion rate (i.e., which campaign results in more users signing up after viewing the ad).\n",
    "\n",
    "#### Definition of Success:  \n",
    "A user signing up after viewing the ad is considered a success (Converted = 1).\n",
    "\n",
    "#### Approach:  \n",
    "Perform A/B Testing to compare the conversion rates of both campaigns.\n"
   ]
  },
  {
   "cell_type": "markdown",
   "metadata": {},
   "source": [
    "#### Steps taken for A/B testing\n",
    "\n",
    "1. Hypothesis Testing  \n",
    "    i. Null Hypothesis (H₀): There is no difference in conversion rates between Campaign A (Email) and Campaign B (Influencer).  \n",
    "    ii. Alternative Hypothesis (H₁): There is a significant difference in conversion rates between Campaign A and Campaign B.  \n",
    "\n",
    "2. Test: Using a two-proportion t-test to compare the conversion rates between Campaign A and Campaign B.  \n",
    "\n",
    "3. Significance Level: Set alpha = 0.05 (5% significance level).  \n",
    "    i. If the p-value < 0.05, reject the null hypothesis, meaning one campaign performs better than the other.  \n",
    "    ii. If the p-value >= 0.05, conclude that there is no statistically significant difference.  "
   ]
  },
  {
   "cell_type": "code",
   "execution_count": 20,
   "metadata": {},
   "outputs": [
    {
     "name": "stdout",
     "output_type": "stream",
     "text": [
      "T-statistic: -1.8351, p-value: 0.0665\n",
      "No significant difference in conversion rates between Email and Influencer campaigns.\n"
     ]
    }
   ],
   "source": [
    "# Filter conversion rates for each group\n",
    "email_cr = df[df[\"Campaign_Type\"] == \"Email\"][\"Conversion_Rate\"]\n",
    "influencer_cr = df[df[\"Campaign_Type\"] == \"Influencer\"][\"Conversion_Rate\"]\n",
    "\n",
    "# Perform two-sample t-test\n",
    "t_stat, p_val = ttest_ind(email_cr, influencer_cr, equal_var=False)  # Welch's t-test\n",
    "print(f\"T-statistic: {t_stat:.4f}, p-value: {p_val:.4f}\")\n",
    "\n",
    "if p_val < 0.05:\n",
    "    print(\"Significant difference in conversion rates between Email and Influencer campaigns.\")\n",
    "else:\n",
    "    print(\"No significant difference in conversion rates between Email and Influencer campaigns.\")\n"
   ]
  },
  {
   "cell_type": "markdown",
   "metadata": {},
   "source": [
    "### Problem 2: Analysis of Conversion Rates Across Multiple Campaign Types\n",
    "\n",
    "A company has launched five different marketing campaigns to increase user sign-ups:\n",
    "\n",
    "- **Campaign A**: Email Campaign  \n",
    "- **Campaign B**: Influencer Marketing Campaign  \n",
    "- **Campaign C**: Display Ads Campaign  \n",
    "- **Campaign D**: Social Media Campaign  \n",
    "- **Campaign E**: Search Engine Ads Campaign  \n",
    "\n",
    "#### Objective:  \n",
    "Determine if there are significant differences in conversion rates among the five campaigns.\n",
    "\n",
    "#### Definition of Success:  \n",
    "A statistically significant difference in conversion rates among the campaigns would indicate that certain campaigns are more effective than others.\n",
    "\n",
    "#### Approach:  \n",
    "Perform a One-Way ANOVA test to compare the conversion rates across the five campaigns."
   ]
  },
  {
   "cell_type": "code",
   "execution_count": 21,
   "metadata": {},
   "outputs": [
    {
     "name": "stdout",
     "output_type": "stream",
     "text": [
      "F-statistic: 0.8873, p-value: 0.4705\n",
      "No significant difference in conversion rates among campaign types.\n"
     ]
    }
   ],
   "source": [
    "# Get conversion rates grouped by campaign type\n",
    "grouped_cr = [df[df[\"Campaign_Type\"] == campaign][\"Conversion_Rate\"] for campaign in df[\"Campaign_Type\"].unique()]\n",
    "\n",
    "# Perform one-way ANOVA\n",
    "f_stat, p_val = f_oneway(*grouped_cr)\n",
    "print(f\"F-statistic: {f_stat:.4f}, p-value: {p_val:.4f}\")\n",
    "\n",
    "if p_val < 0.05:\n",
    "    print(\"There is a significant difference in conversion rates among campaign types.\")\n",
    "else:\n",
    "    print(\"No significant difference in conversion rates among campaign types.\")\n"
   ]
  },
  {
   "cell_type": "code",
   "execution_count": 22,
   "metadata": {},
   "outputs": [
    {
     "name": "stdout",
     "output_type": "stream",
     "text": [
      "     Multiple Comparison of Means - Tukey HSD, FWER=0.05     \n",
      "=============================================================\n",
      "  group1      group2    meandiff p-adj   lower  upper  reject\n",
      "-------------------------------------------------------------\n",
      "   Display        Email  -0.0003  0.834 -0.0011 0.0005  False\n",
      "   Display   Influencer   0.0002 0.9341 -0.0006  0.001  False\n",
      "   Display       Search  -0.0001 0.9993 -0.0009 0.0007  False\n",
      "   Display Social Media      0.0 0.9999 -0.0007 0.0008  False\n",
      "     Email   Influencer   0.0005 0.3535 -0.0003 0.0013  False\n",
      "     Email       Search   0.0002 0.9273 -0.0006  0.001  False\n",
      "     Email Social Media   0.0003 0.7487 -0.0004 0.0011  False\n",
      "Influencer       Search  -0.0003 0.8438 -0.0011 0.0005  False\n",
      "Influencer Social Media  -0.0002 0.9708  -0.001 0.0006  False\n",
      "    Search Social Media   0.0001 0.9948 -0.0007 0.0009  False\n",
      "-------------------------------------------------------------\n"
     ]
    }
   ],
   "source": [
    "#Tukey’s HSD to explore if any specific pair might be marginally different, even if the overall result wasn’t.\n",
    "tukey_result = pairwise_tukeyhsd(endog=df['Conversion_Rate'], groups=df['Campaign_Type'], alpha=0.05)\n",
    "print(tukey_result.summary())\n"
   ]
  },
  {
   "cell_type": "markdown",
   "metadata": {},
   "source": [
    "### Problem 3: Analysis of ROI Across Multiple Campaign Types\n",
    "\n",
    "A company has launched five different marketing campaigns to increase ROI:\n",
    "\n",
    "- **Campaign A**: Email Campaign  \n",
    "- **Campaign B**: Influencer Marketing Campaign  \n",
    "- **Campaign C**: Display Ads Campaign  \n",
    "- **Campaign D**: Social Media Campaign  \n",
    "- **Campaign E**: Search Engine Ads Campaign  \n",
    "\n",
    "#### Objective:  \n",
    "Determine if there are significant differences in ROI among the five campaigns.\n",
    "\n",
    "#### Definition of Success:  \n",
    "A statistically significant difference in ROI among the campaigns would indicate that certain campaigns are more effective than others.\n",
    "\n",
    "#### Approach:  \n",
    "Perform a One-Way ANOVA test to compare the ROI across the five campaigns."
   ]
  },
  {
   "cell_type": "code",
   "execution_count": null,
   "metadata": {},
   "outputs": [
    {
     "name": "stdout",
     "output_type": "stream",
     "text": [
      "F-statistic: 1.0170, p-value: 0.3969\n",
      "No significant difference in ROI among campaign types.\n"
     ]
    }
   ],
   "source": [
    "#One-way ANOVA for ROI\n",
    "\n",
    "\n",
    "# Assuming df is your dataframe\n",
    "groups = [group[\"ROI\"].values for name, group in df.groupby(\"Campaign_Type\")]\n",
    "f_stat, p_val = f_oneway(*groups)\n",
    "\n",
    "print(f\"F-statistic: {f_stat:.4f}, p-value: {p_val:.4f}\")\n",
    "\n",
    "if p_val < 0.05:\n",
    "    print(\"There is a significant difference in ROI among campaign types.\")\n",
    "else:\n",
    "    print(\"No significant difference in ROI among campaign types.\")\n"
   ]
  },
  {
   "cell_type": "code",
   "execution_count": null,
   "metadata": {},
   "outputs": [
    {
     "name": "stdout",
     "output_type": "stream",
     "text": [
      "     Multiple Comparison of Means - Tukey HSD, FWER=0.05     \n",
      "=============================================================\n",
      "  group1      group2    meandiff p-adj   lower  upper  reject\n",
      "-------------------------------------------------------------\n",
      "   Display        Email  -0.0123 0.8562 -0.0457 0.0212  False\n",
      "   Display   Influencer   0.0045 0.9961 -0.0289 0.0379  False\n",
      "   Display       Search   0.0018 0.9999 -0.0316 0.0352  False\n",
      "   Display Social Media  -0.0148 0.7499 -0.0483 0.0187  False\n",
      "     Email   Influencer   0.0168 0.6483 -0.0167 0.0502  False\n",
      "     Email       Search   0.0141 0.7816 -0.0194 0.0475  False\n",
      "     Email Social Media  -0.0025 0.9996  -0.036  0.031  False\n",
      "Influencer       Search  -0.0027 0.9995 -0.0361 0.0307  False\n",
      "Influencer Social Media  -0.0193 0.5153 -0.0527 0.0142  False\n",
      "    Search Social Media  -0.0166 0.6591   -0.05 0.0169  False\n",
      "-------------------------------------------------------------\n"
     ]
    }
   ],
   "source": [
    "#Tukey’s HSD to explore if any specific pair might be marginally different, even if the overall result wasn’t.\n",
    "tukey = pairwise_tukeyhsd(endog=df[\"ROI\"],\n",
    "                          groups=df[\"Campaign_Type\"],\n",
    "                          alpha=0.05)\n",
    "print(tukey.summary())\n"
   ]
  },
  {
   "cell_type": "markdown",
   "metadata": {},
   "source": [
    "### Problem 4: Analysis of Acquisition Cost Across Multiple Campaign Types\n",
    "\n",
    "A company has launched five different marketing campaigns to analyze acquisition costs:\n",
    "\n",
    "- **Campaign A**: Email Campaign  \n",
    "- **Campaign B**: Influencer Marketing Campaign  \n",
    "- **Campaign C**: Display Ads Campaign  \n",
    "- **Campaign D**: Social Media Campaign  \n",
    "- **Campaign E**: Search Engine Ads Campaign  \n",
    "\n",
    "#### Objective:  \n",
    "Determine if there are significant differences in acquisition costs among the five campaigns.\n",
    "\n",
    "#### Definition of Success:  \n",
    "A statistically significant difference in acquisition costs among the campaigns would indicate that certain campaigns are more cost-effective than others.\n",
    "\n",
    "#### Approach:  \n",
    "Perform a One-Way ANOVA test to compare the acquisition costs across the five campaigns."
   ]
  },
  {
   "cell_type": "code",
   "execution_count": 23,
   "metadata": {},
   "outputs": [
    {
     "name": "stdout",
     "output_type": "stream",
     "text": [
      "F-statistic: 0.1081, p-value: 0.9797\n",
      "No significant difference in Acquisition Cost among campaign types.\n"
     ]
    }
   ],
   "source": [
    "#One-way ANOVA for Acquisition Cost\n",
    "groups_ac = [group[\"Acquisition_Cost\"].values for _, group in df.groupby(\"Campaign_Type\")]\n",
    "f_stat_ac, p_val_ac = f_oneway(*groups_ac)\n",
    "\n",
    "print(f\"F-statistic: {f_stat_ac:.4f}, p-value: {p_val_ac:.4f}\")\n",
    "\n",
    "if p_val_ac < 0.05: \n",
    "    print(\"There is a significant difference in Acquisition Cost among campaign types.\")\n",
    "else:\n",
    "    print(\"No significant difference in Acquisition Cost among campaign types.\")\n"
   ]
  },
  {
   "cell_type": "code",
   "execution_count": 24,
   "metadata": {},
   "outputs": [
    {
     "name": "stdout",
     "output_type": "stream",
     "text": [
      "      Multiple Comparison of Means - Tukey HSD, FWER=0.05      \n",
      "===============================================================\n",
      "  group1      group2    meandiff p-adj   lower    upper  reject\n",
      "---------------------------------------------------------------\n",
      "   Display        Email -12.6884 0.9939 -96.4302 71.0534  False\n",
      "   Display   Influencer  -0.8641    1.0 -84.4497 82.7215  False\n",
      "   Display       Search   -9.298 0.9982 -92.8898 74.2938  False\n",
      "   Display Social Media   4.6636 0.9999 -79.1061 88.4333  False\n",
      "     Email   Influencer  11.8242 0.9953 -71.8228 95.4713  False\n",
      "     Email       Search   3.3904    1.0 -80.2629 87.0436  False\n",
      "     Email Social Media   17.352 0.9801  -66.479 101.183  False\n",
      "Influencer       Search  -8.4339 0.9987 -91.9307  75.063  False\n",
      "Influencer Social Media   5.5278 0.9998 -78.1472 89.2027  False\n",
      "    Search Social Media  13.9616 0.9912 -69.7195 97.6428  False\n",
      "---------------------------------------------------------------\n"
     ]
    }
   ],
   "source": [
    "#Tukey’s HSD to explore if any specific pair might be marginally different, even if the overall result wasn’t.\n",
    "\n",
    "tukey_ac = pairwise_tukeyhsd(endog=df[\"Acquisition_Cost\"],\n",
    "                              groups=df[\"Campaign_Type\"],\n",
    "                              alpha=0.05)\n",
    "print(tukey_ac.summary())\n"
   ]
  },
  {
   "cell_type": "markdown",
   "metadata": {},
   "source": [
    "### Exploring Causal Effect: Does Campaign Type Influence Conversion Rate , ROI , Acquisition Cost?\n",
    "\n",
    "Using Propensity Score Matching to evaluate the causal impact of Campaign Type on Conversion Rate, ROI and Acquisition Cost by balancing treatment (specific campaign types) and controlling for confounding variables, ensuring an accurate estimation of the treatment effect."
   ]
  },
  {
   "cell_type": "markdown",
   "metadata": {},
   "source": [
    "Calculate Propensity Score"
   ]
  },
  {
   "cell_type": "code",
   "execution_count": 28,
   "metadata": {},
   "outputs": [
    {
     "name": "stdout",
     "output_type": "stream",
     "text": [
      "Numeric columns: Index(['Conversion_Rate', 'Acquisition_Cost', 'ROI', 'Clicks', 'Impressions',\n",
      "       'Engagement_Score'],\n",
      "      dtype='object')\n",
      "Non-numeric columns: Index(['Company_DataTech Solutions', 'Company_Innovate Industries',\n",
      "       'Company_NexGen Systems', 'Company_TechCorp', 'Campaign_Type_Email',\n",
      "       'Campaign_Type_Search', 'Campaign_Type_Social Media',\n",
      "       'Target_Audience_Men 18-24', 'Target_Audience_Men 25-34',\n",
      "       'Target_Audience_Women 25-34', 'Target_Audience_Women 35-44',\n",
      "       'Duration_30 days', 'Duration_45 days', 'Duration_60 days',\n",
      "       'Channel_Used_Facebook', 'Channel_Used_Google Ads',\n",
      "       'Channel_Used_Instagram', 'Channel_Used_Website',\n",
      "       'Channel_Used_YouTube', 'Location_Houston', 'Location_Los Angeles',\n",
      "       'Location_Miami', 'Location_New York', 'Language_French',\n",
      "       'Language_German', 'Language_Mandarin', 'Language_Spanish',\n",
      "       'Customer_Segment_Foodies', 'Customer_Segment_Health & Wellness',\n",
      "       'Customer_Segment_Outdoor Adventurers',\n",
      "       'Customer_Segment_Tech Enthusiasts'],\n",
      "      dtype='object')\n"
     ]
    }
   ],
   "source": [
    "# Convert categorical variables to numeric (use one-hot encoding)\n",
    "df_encoded = pd.get_dummies(df, drop_first=True)\n",
    "\n",
    "# Define the target variable (treatment: Influencer vs other types)\n",
    "df_encoded['Campaign_Type_Influencer'] = df_encoded['Campaign_Type_Influencer'].astype(int)\n",
    "\n",
    "# Select features (exclude 'Campaign_ID' and any other non-predictor columns)\n",
    "X = df_encoded.drop(columns=['Campaign_ID','Campaign_Type_Influencer','Date'])\n",
    "y = df_encoded['Campaign_Type_Influencer']\n",
    "\n",
    "# Separate numeric and non-numeric columns\n",
    "numeric_columns = X.select_dtypes(include=['float64', 'int64']).columns\n",
    "non_numeric_columns = X.select_dtypes(exclude=['float64', 'int64']).columns\n",
    "print(\"Numeric columns:\", numeric_columns)\n",
    "print(\"Non-numeric columns:\", non_numeric_columns)  \n",
    "\n",
    "# Now scale only the numeric features\n",
    "scaler = StandardScaler()\n",
    "X_scaled = scaler.fit_transform(X[numeric_columns])\n",
    "\n",
    "# Combine the scaled numeric features back with the non-numeric columns\n",
    "X_scaled_df = pd.DataFrame(X_scaled, columns=numeric_columns)\n",
    "X_final = pd.concat([X_scaled_df, X[non_numeric_columns].reset_index(drop=True)], axis=1)\n",
    "\n",
    "# Split data into training and testing sets\n",
    "X_train, X_test, y_train, y_test = train_test_split(X_final, y, test_size=0.2, random_state=42)\n",
    "\n",
    "# Fit the Logistic Regression Model\n",
    "logreg = LogisticRegression()\n",
    "logreg.fit(X_train, y_train)\n",
    "\n",
    "# Predict the propensity scores on the test set\n",
    "propensity_scores = logreg.predict_proba(X_test)[:, 1]  # Probability of being in the 'Influencer' campaign\n",
    "\n",
    "# Assign propensity scores back to the original dataframe\n",
    "df_encoded['propensity_score'] = logreg.predict_proba(X_final)[:, 1]\n",
    "\n"
   ]
  },
  {
   "cell_type": "markdown",
   "metadata": {},
   "source": [
    "Matching Treated and Untreated Units"
   ]
  },
  {
   "cell_type": "code",
   "execution_count": 29,
   "metadata": {
    "vscode": {
     "languageId": "ruby"
    }
   },
   "outputs": [
    {
     "name": "stdout",
     "output_type": "stream",
     "text": [
      "Treated scores shape: (40169, 1)\n",
      "Untreated scores shape: (159831, 1)\n",
      "    Campaign_ID  Conversion_Rate  Acquisition_Cost   ROI  Clicks  Impressions  \\\n",
      "2             3             0.07           10200.0  7.18     584         7698   \n",
      "11           12             0.05           17502.0  3.59     659         8948   \n",
      "17           18             0.14            9485.0  4.48     218         9264   \n",
      "19           20             0.09           10258.0  3.83     193         3677   \n",
      "21           22             0.02           12824.0  6.21     319         8586   \n",
      "\n",
      "    Engagement_Score       Date  Company_DataTech Solutions  \\\n",
      "2                  1 2021-01-03                       False   \n",
      "11                 1 2021-01-12                       False   \n",
      "17                 9 2021-01-18                       False   \n",
      "19                 1 2021-01-20                        True   \n",
      "21                 2 2021-01-22                       False   \n",
      "\n",
      "    Company_Innovate Industries  ...  Location_New York  Language_French  \\\n",
      "2                         False  ...              False             True   \n",
      "11                         True  ...              False            False   \n",
      "17                        False  ...              False             True   \n",
      "19                        False  ...              False             True   \n",
      "21                        False  ...               True             True   \n",
      "\n",
      "    Language_German  Language_Mandarin  Language_Spanish  \\\n",
      "2             False              False             False   \n",
      "11            False               True             False   \n",
      "17            False              False             False   \n",
      "19            False              False             False   \n",
      "21            False              False             False   \n",
      "\n",
      "    Customer_Segment_Foodies  Customer_Segment_Health & Wellness  \\\n",
      "2                      False                               False   \n",
      "11                      True                               False   \n",
      "17                     False                                True   \n",
      "19                     False                               False   \n",
      "21                      True                               False   \n",
      "\n",
      "    Customer_Segment_Outdoor Adventurers  Customer_Segment_Tech Enthusiasts  \\\n",
      "2                                   True                              False   \n",
      "11                                 False                              False   \n",
      "17                                 False                              False   \n",
      "19                                 False                               True   \n",
      "21                                 False                              False   \n",
      "\n",
      "    propensity_score  \n",
      "2           0.511052  \n",
      "11          0.499742  \n",
      "17          0.503755  \n",
      "19          0.524391  \n",
      "21          0.522133  \n",
      "\n",
      "[5 rows x 41 columns]\n"
     ]
    }
   ],
   "source": [
    "from sklearn.neighbors import NearestNeighbors\n",
    "import pandas as pd\n",
    "\n",
    "# Identifying treated and untreated groups\n",
    "treated = df_encoded[df_encoded['Campaign_Type_Influencer'] == 1]  # Influencer campaign (treated)\n",
    "untreated = df_encoded[df_encoded['Campaign_Type_Influencer'] == 0]  # Other campaigns (untreated)\n",
    "\n",
    "treated_scores = treated[['propensity_score']].values  # Convert to 2D array\n",
    "untreated_scores = untreated[['propensity_score']].values  # Convert to 2D array\n",
    "\n",
    "print(\"Treated scores shape:\", treated_scores.shape)\n",
    "print(\"Untreated scores shape:\", untreated_scores.shape)\n",
    "\n",
    "# Use Nearest Neighbors to match treated and untreated units based on propensity score\n",
    "nn = NearestNeighbors(n_neighbors=1)\n",
    "nn.fit(untreated[['propensity_score']])  # Fit on the untreated units\n",
    "\n",
    "# Find the nearest neighbors (i.e., the closest untreated units for each treated unit)\n",
    "distances, indices = nn.kneighbors(treated[['propensity_score']])\n",
    "\n",
    "# Get the matched untreated units\n",
    "matched_untreated = untreated.iloc[indices.flatten()]\n",
    "\n",
    "# Combine treated and matched untreated units\n",
    "matched_data = pd.concat([treated, matched_untreated], axis=0)\n",
    "print(matched_data.head())\n"
   ]
  },
  {
   "cell_type": "code",
   "execution_count": 30,
   "metadata": {},
   "outputs": [
    {
     "data": {
      "image/png": "[encoded data removed]",
      "text/plain": [
       "<Figure size 1000x600 with 1 Axes>"
      ]
     },
     "metadata": {},
     "output_type": "display_data"
    },
    {
     "data": {
      "image/png": "[encoded data removed]",
      "text/plain": [
       "<Figure size 1000x600 with 1 Axes>"
      ]
     },
     "metadata": {},
     "output_type": "display_data"
    }
   ],
   "source": [
    "import matplotlib.pyplot as plt\n",
    "\n",
    "# Visualize the distribution of propensity scores before matching\n",
    "plt.figure(figsize=(10,6))\n",
    "plt.hist(treated['propensity_score'], bins=30, alpha=0.5, label='Treated (Influencer)')\n",
    "plt.hist(untreated['propensity_score'], bins=30, alpha=0.5, label='Untreated (Other Campaigns)')\n",
    "plt.xlabel('Propensity Score')\n",
    "plt.ylabel('Frequency')\n",
    "plt.legend()\n",
    "plt.title('Distribution of Propensity Scores (Before Matching)')\n",
    "plt.show()\n",
    "\n",
    "# Now visualize after matching\n",
    "plt.figure(figsize=(10,6))\n",
    "plt.hist(matched_data['propensity_score'], bins=30, alpha=0.5, label='Matched')\n",
    "plt.xlabel('Propensity Score')\n",
    "plt.ylabel('Frequency')\n",
    "plt.legend()\n",
    "plt.title('Distribution of Propensity Scores (After Matching)')\n",
    "plt.show()\n",
    "\n"
   ]
  },
  {
   "cell_type": "code",
   "execution_count": 31,
   "metadata": {},
   "outputs": [
    {
     "name": "stdout",
     "output_type": "stream",
     "text": [
      "Mean Conversion Rate for Treated (Influencer): 0.08031467051706541\n",
      "Mean Conversion Rate for Matched Untreated: 0.0803004804700142\n",
      "Effect of Treatment (Influencer) on Conversion Rate: 1.419004705120741e-05\n"
     ]
    }
   ],
   "source": [
    "# Calculate mean conversion rate for treated and matched untreated groups\n",
    "treated_conversion_rate = treated['Conversion_Rate'].mean()\n",
    "matched_untreated_conversion_rate = matched_untreated['Conversion_Rate'].mean()\n",
    "\n",
    "print(f\"Mean Conversion Rate for Treated (Influencer): {treated_conversion_rate}\")\n",
    "print(f\"Mean Conversion Rate for Matched Untreated: {matched_untreated_conversion_rate}\")\n",
    "\n",
    "# Calculate the difference in conversion rates\n",
    "effect_of_treatment = treated_conversion_rate - matched_untreated_conversion_rate\n",
    "print(f\"Effect of Treatment (Influencer) on Conversion Rate: {effect_of_treatment}\")\n"
   ]
  },
  {
   "cell_type": "code",
   "execution_count": 32,
   "metadata": {},
   "outputs": [
    {
     "name": "stdout",
     "output_type": "stream",
     "text": [
      "T-statistic: 0.049626386543557645\n",
      "P-value: 0.9604202424847454\n",
      "There is no statistically significant difference in conversion rates between treated and untreated groups.\n"
     ]
    }
   ],
   "source": [
    "from scipy import stats\n",
    "\n",
    "# Perform t-test for difference in conversion rates\n",
    "t_stat, p_value = stats.ttest_ind(treated['Conversion_Rate'], matched_untreated['Conversion_Rate'])\n",
    "\n",
    "print(f\"T-statistic: {t_stat}\")\n",
    "print(f\"P-value: {p_value}\")\n",
    "\n",
    "# Check for significance at 5% significance level\n",
    "if p_value < 0.05:\n",
    "    print(\"There is a statistically significant difference in conversion rates between treated and untreated groups.\")\n",
    "else:\n",
    "    print(\"There is no statistically significant difference in conversion rates between treated and untreated groups.\")\n"
   ]
  },
  {
   "cell_type": "code",
   "execution_count": 37,
   "metadata": {},
   "outputs": [
    {
     "name": "stdout",
     "output_type": "stream",
     "text": [
      "Mean Conversion Rate for Treated (Influencer): 5.011068236699942\n",
      "Mean Conversion Rate for Matched Untreated: 5.020033608006174\n",
      "Effect of Treatment (Influencer) on ROI: -0.008965371306231873\n"
     ]
    }
   ],
   "source": [
    "# Calculate mean conversion rate for treated and matched untreated groups\n",
    "treated_conversion_rate = treated['ROI'].mean()\n",
    "matched_untreated_conversion_rate = matched_untreated['ROI'].mean()\n",
    "\n",
    "print(f\"Mean Conversion Rate for Treated (Influencer): {treated_conversion_rate}\")\n",
    "print(f\"Mean Conversion Rate for Matched Untreated: {matched_untreated_conversion_rate}\")\n",
    "\n",
    "# Calculate the difference in conversion rates\n",
    "effect_of_treatment = treated_conversion_rate - matched_untreated_conversion_rate\n",
    "print(f\"Effect of Treatment (Influencer) on ROI: {effect_of_treatment}\")\n"
   ]
  },
  {
   "cell_type": "code",
   "execution_count": null,
   "metadata": {},
   "outputs": [
    {
     "name": "stdout",
     "output_type": "stream",
     "text": [
      "T-statistic: -0.7324464613811166\n",
      "P-value: 0.46389824618690234\n",
      "There is no statistically significant difference in conversion rates between treated and untreated groups.\n"
     ]
    }
   ],
   "source": [
    "\n",
    "\n",
    "# Perform t-test for difference in conversion rates\n",
    "t_stat, p_value = stats.ttest_ind(treated['ROI'], matched_untreated['ROI'])\n",
    "\n",
    "print(f\"T-statistic: {t_stat}\")\n",
    "print(f\"P-value: {p_value}\")\n",
    "\n",
    "# Check for significance at 5% significance level\n",
    "if p_value < 0.05:\n",
    "    print(\"There is a statistically significant difference in ROI between treated and untreated groups.\")\n",
    "else:\n",
    "    print(\"There is no statistically significant difference in ROI between treated and untreated groups.\")\n"
   ]
  },
  {
   "cell_type": "code",
   "execution_count": 39,
   "metadata": {},
   "outputs": [
    {
     "name": "stdout",
     "output_type": "stream",
     "text": [
      "Mean Conversion Rate for Treated (Influencer): 12507.170330354253\n",
      "Mean Conversion Rate for Matched Untreated: 12506.518534193034\n",
      "Effect of Treatment (Influencer) on Acuisition Cost: 0.6517961612189538\n"
     ]
    }
   ],
   "source": [
    "# Calculate mean conversion rate for treated and matched untreated groups\n",
    "treated_acquisition_cost = treated['Acquisition_Cost'].mean()\n",
    "matched_untreated_acquisition_cost = matched_untreated['Acquisition_Cost'].mean()\n",
    "\n",
    "print(f\"Mean Conversion Rate for Treated (Influencer): {treated_acquisition_cost}\")\n",
    "print(f\"Mean Conversion Rate for Matched Untreated: {matched_untreated_acquisition_cost}\")\n",
    "\n",
    "# Calculate the difference in conversion rates\n",
    "effect_of_treatment = treated_acquisition_cost - matched_untreated_acquisition_cost\n",
    "print(f\"Effect of Treatment (Influencer) on Acuisition Cost: {effect_of_treatment}\")\n"
   ]
  },
  {
   "cell_type": "code",
   "execution_count": 40,
   "metadata": {},
   "outputs": [
    {
     "name": "stdout",
     "output_type": "stream",
     "text": [
      "T-statistic: 0.021315328960167235\n",
      "P-value: 0.9829941688125017\n",
      "There is no statistically significant difference in Acuisition Cost between treated and untreated groups.\n"
     ]
    }
   ],
   "source": [
    "from scipy import stats\n",
    "\n",
    "# Perform t-test for difference in conversion rates\n",
    "t_stat, p_value = stats.ttest_ind(treated['Acquisition_Cost'], matched_untreated['Acquisition_Cost'])\n",
    "\n",
    "print(f\"T-statistic: {t_stat}\")\n",
    "print(f\"P-value: {p_value}\")\n",
    "\n",
    "# Check for significance at 5% significance level\n",
    "if p_value < 0.05:\n",
    "    print(\"There is a statistically significant difference in Acuisition Cost between treated and untreated groups.\")\n",
    "else:\n",
    "    print(\"There is no statistically significant difference in Acuisition Cost between treated and untreated groups.\")\n"
   ]
  },
  {
   "cell_type": "markdown",
   "metadata": {},
   "source": [
    "### Simulating a Randomized Controlled Trial (RCT)\n",
    "\n",
    "In this section, we aim to simulate a randomized controlled trial (RCT) by randomly assigning units (e.g., customers, campaigns) to either a treatment group (e.g., Influencer campaign) or a control group (e.g., other campaign types). This allows us to evaluate the causal impact of the treatment by comparing outcomes between the two groups.\n",
    "\n",
    "#### Key Steps in Simulating the Experiment:\n",
    "1. **Random Treatment Assignment**: Randomly assign units to either the treatment group (Influencer campaign) or the control group.\n",
    "2. **Define Outcome Variables**: Identify the metrics to evaluate, such as Conversion Rate, Acquisition Cost, and ROI.\n",
    "3. **Simulate Treatment Effects**: Introduce a simulated treatment effect based on assumptions or expected improvements in the outcome metrics for the treatment group.\n",
    "4. **Random Data Splitting**: Randomly divide the data into treatment and control groups.\n",
    "5. **Outcome Measurement**: Compare the outcome metrics between the treatment and control groups to assess the treatment's impact."
   ]
  },
  {
   "cell_type": "code",
   "execution_count": 42,
   "metadata": {},
   "outputs": [
    {
     "name": "stdout",
     "output_type": "stream",
     "text": [
      "Treatment\n",
      "1    100232\n",
      "0     99768\n",
      "Name: count, dtype: int64\n"
     ]
    }
   ],
   "source": [
    "import numpy as np\n",
    "import pandas as pd\n",
    "\n",
    "\n",
    "np.random.seed(42)  # For reproducibility\n",
    "\n",
    "# Create a treatment column where 1 means treated (Influencer) and 0 means control (others)\n",
    "df_encoded['Treatment'] = np.random.choice([0, 1], size=len(df_encoded), p=[0.5, 0.5])\n",
    "\n",
    "# Check if the treatment assignment is random (roughly 50% in each group)\n",
    "print(df_encoded['Treatment'].value_counts())\n"
   ]
  },
  {
   "cell_type": "code",
   "execution_count": 43,
   "metadata": {},
   "outputs": [
    {
     "data": {
      "text/html": [
       "<div>\n",
       "<style scoped>\n",
       "    .dataframe tbody tr th:only-of-type {\n",
       "        vertical-align: middle;\n",
       "    }\n",
       "\n",
       "    .dataframe tbody tr th {\n",
       "        vertical-align: top;\n",
       "    }\n",
       "\n",
       "    .dataframe thead th {\n",
       "        text-align: right;\n",
       "    }\n",
       "</style>\n",
       "<table border=\"1\" class=\"dataframe\">\n",
       "  <thead>\n",
       "    <tr style=\"text-align: right;\">\n",
       "      <th></th>\n",
       "      <th>Campaign_Type_Influencer</th>\n",
       "      <th>Treatment</th>\n",
       "      <th>Conversion_Rate</th>\n",
       "      <th>Simulated_Conversion_Rate</th>\n",
       "      <th>Acquisition_Cost</th>\n",
       "      <th>Simulated_Acquisition_Cost</th>\n",
       "    </tr>\n",
       "  </thead>\n",
       "  <tbody>\n",
       "    <tr>\n",
       "      <th>0</th>\n",
       "      <td>0</td>\n",
       "      <td>0</td>\n",
       "      <td>0.04</td>\n",
       "      <td>0.04</td>\n",
       "      <td>16174.0</td>\n",
       "      <td>16174.0</td>\n",
       "    </tr>\n",
       "    <tr>\n",
       "      <th>1</th>\n",
       "      <td>0</td>\n",
       "      <td>1</td>\n",
       "      <td>0.12</td>\n",
       "      <td>0.14</td>\n",
       "      <td>11566.0</td>\n",
       "      <td>10409.4</td>\n",
       "    </tr>\n",
       "    <tr>\n",
       "      <th>2</th>\n",
       "      <td>1</td>\n",
       "      <td>1</td>\n",
       "      <td>0.07</td>\n",
       "      <td>0.09</td>\n",
       "      <td>10200.0</td>\n",
       "      <td>9180.0</td>\n",
       "    </tr>\n",
       "    <tr>\n",
       "      <th>3</th>\n",
       "      <td>0</td>\n",
       "      <td>1</td>\n",
       "      <td>0.11</td>\n",
       "      <td>0.13</td>\n",
       "      <td>12724.0</td>\n",
       "      <td>11451.6</td>\n",
       "    </tr>\n",
       "    <tr>\n",
       "      <th>4</th>\n",
       "      <td>0</td>\n",
       "      <td>0</td>\n",
       "      <td>0.05</td>\n",
       "      <td>0.05</td>\n",
       "      <td>16452.0</td>\n",
       "      <td>16452.0</td>\n",
       "    </tr>\n",
       "  </tbody>\n",
       "</table>\n",
       "</div>"
      ],
      "text/plain": [
       "   Campaign_Type_Influencer  Treatment  Conversion_Rate  \\\n",
       "0                         0          0             0.04   \n",
       "1                         0          1             0.12   \n",
       "2                         1          1             0.07   \n",
       "3                         0          1             0.11   \n",
       "4                         0          0             0.05   \n",
       "\n",
       "   Simulated_Conversion_Rate  Acquisition_Cost  Simulated_Acquisition_Cost  \n",
       "0                       0.04           16174.0                     16174.0  \n",
       "1                       0.14           11566.0                     10409.4  \n",
       "2                       0.09           10200.0                      9180.0  \n",
       "3                       0.13           12724.0                     11451.6  \n",
       "4                       0.05           16452.0                     16452.0  "
      ]
     },
     "execution_count": 43,
     "metadata": {},
     "output_type": "execute_result"
    }
   ],
   "source": [
    "# Simulating treatment effect on Conversion Rate and Acquisition Cost\n",
    "df_encoded['Simulated_Conversion_Rate'] = df_encoded['Conversion_Rate']\n",
    "df_encoded['Simulated_Acquisition_Cost'] = df_encoded['Acquisition_Cost']\n",
    "\n",
    "# Apply treatment effect to treated group (Influencer campaigns)\n",
    "# Assuming a 2% increase in conversion rate and 10% decrease in acquisition cost\n",
    "df_encoded.loc[df_encoded['Treatment'] == 1, 'Simulated_Conversion_Rate'] += 0.02\n",
    "df_encoded.loc[df_encoded['Treatment'] == 1, 'Simulated_Acquisition_Cost'] *= 0.9  # 10% reduction\n",
    "\n",
    "# Check the data\n",
    "df_encoded[['Campaign_Type_Influencer','Treatment', 'Conversion_Rate', 'Simulated_Conversion_Rate', 'Acquisition_Cost', 'Simulated_Acquisition_Cost']].head()\n"
   ]
  },
  {
   "cell_type": "code",
   "execution_count": 44,
   "metadata": {},
   "outputs": [
    {
     "name": "stdout",
     "output_type": "stream",
     "text": [
      "T-statistic for Conversion Rate: 110.5502, p-value: 0.0000\n",
      "There is a statistically significant difference in simulated conversion rates between treated and control groups.\n",
      "T-statistic for Acquisition Cost: -69.4755, p-value: 0.0000\n",
      "There is a statistically significant difference in simulated acquisition costs between treated and control groups.\n"
     ]
    }
   ],
   "source": [
    "from scipy import stats\n",
    "\n",
    "# Compare means of simulated conversion rate between treated and control groups\n",
    "treated = df_encoded[df_encoded['Treatment'] == 1]\n",
    "control = df_encoded[df_encoded['Treatment'] == 0]\n",
    "\n",
    "# T-test for Simulated Conversion Rate\n",
    "t_stat, p_val = stats.ttest_ind(treated['Simulated_Conversion_Rate'], control['Simulated_Conversion_Rate'])\n",
    "print(f\"T-statistic for Conversion Rate: {t_stat:.4f}, p-value: {p_val:.4f}\")\n",
    "if p_val < 0.05:\n",
    "    print(\"There is a statistically significant difference in simulated conversion rates between treated and control groups.\")\n",
    "else:\n",
    "    print(\"There is no statistically significant difference in simulated conversion rates between treated and control groups.\")\n",
    "\n",
    "# T-test for Simulated Acquisition Cost\n",
    "t_stat, p_val = stats.ttest_ind(treated['Simulated_Acquisition_Cost'], control['Simulated_Acquisition_Cost'])\n",
    "print(f\"T-statistic for Acquisition Cost: {t_stat:.4f}, p-value: {p_val:.4f}\")\n",
    "if p_val < 0.05:\n",
    "    print(\"There is a statistically significant difference in simulated acquisition costs between treated and control groups.\")\n",
    "else:\n",
    "    print(\"There is no statistically significant difference in simulated acquisition costs between treated and control groups.\")\n"
   ]
  },
  {
   "cell_type": "code",
   "execution_count": 45,
   "metadata": {},
   "outputs": [
    {
     "name": "stdout",
     "output_type": "stream",
     "text": [
      "Estimated ATE on Conversion Rate: 0.0201\n",
      "Estimated ATE on Acquisition Cost: -1282.0175\n"
     ]
    }
   ],
   "source": [
    "# Mean conversion rate for treated and untreated\n",
    "#Estimate Average Treatment Effect (ATE)\n",
    "treated = df_encoded[df_encoded['Treatment'] == 1]\n",
    "untreated = df_encoded[df_encoded['Treatment'] == 0]\n",
    "\n",
    "ate_conversion = treated['Simulated_Conversion_Rate'].mean() - untreated['Simulated_Conversion_Rate'].mean()\n",
    "ate_cost = treated['Simulated_Acquisition_Cost'].mean() - untreated['Simulated_Acquisition_Cost'].mean()\n",
    "\n",
    "print(f\"Estimated ATE on Conversion Rate: {ate_conversion:.4f}\")\n",
    "print(f\"Estimated ATE on Acquisition Cost: {ate_cost:.4f}\")\n"
   ]
  },
  {
   "cell_type": "code",
   "execution_count": null,
   "metadata": {},
   "outputs": [],
   "source": [
    "#Calculate propensity scores using Logistic Regression\n",
    "from sklearn.linear_model import LogisticRegression\n",
    "\n",
    "# Predict treatment (Influencer = 1) using all other variables\n",
    "X = df_encoded.drop(columns=['Treatment', 'Simulated_Conversion_Rate', 'Simulated_Acquisition_Cost',\n",
    "                             'Conversion_Rate', 'Acquisition_Cost', 'Campaign_ID', 'Date'])\n",
    "y = df_encoded['Treatment']\n",
    "\n",
    "logreg = LogisticRegression(max_iter=1000)\n",
    "logreg.fit(X, y)\n",
    "\n",
    "# Add propensity score to dataframe\n",
    "df_encoded['propensity_score'] = logreg.predict_proba(X)[:, 1]\n"
   ]
  },
  {
   "cell_type": "code",
   "execution_count": 47,
   "metadata": {},
   "outputs": [],
   "source": [
    "#Matching the treated and untreated groups\n",
    "from sklearn.neighbors import NearestNeighbors\n",
    "\n",
    "# Separate treated and untreated\n",
    "treated = df_encoded[df_encoded['Treatment'] == 1]\n",
    "untreated = df_encoded[df_encoded['Treatment'] == 0]\n",
    "\n",
    "# Fit NearestNeighbors on untreated propensity scores\n",
    "nn = NearestNeighbors(n_neighbors=1)\n",
    "nn.fit(untreated[['propensity_score']])\n",
    "\n",
    "# Find nearest neighbors for treated\n",
    "distances, indices = nn.kneighbors(treated[['propensity_score']])\n",
    "\n",
    "# Get matched control units\n",
    "matched_controls = untreated.iloc[indices.flatten()].copy()\n",
    "matched_controls.index = treated.index  # Align index for subtraction\n"
   ]
  },
  {
   "cell_type": "code",
   "execution_count": 48,
   "metadata": {},
   "outputs": [
    {
     "name": "stdout",
     "output_type": "stream",
     "text": [
      "PSM ATE on Conversion Rate: 0.0203\n",
      "PSM ATE on Acquisition Cost: -1268.7195\n"
     ]
    }
   ],
   "source": [
    "# Matched pairs (treated vs matched controls)\n",
    "conversion_diff = treated['Simulated_Conversion_Rate'] - matched_controls['Simulated_Conversion_Rate']\n",
    "cost_diff = treated['Simulated_Acquisition_Cost'] - matched_controls['Simulated_Acquisition_Cost']\n",
    "\n",
    "print(f\"PSM ATE on Conversion Rate: {conversion_diff.mean():.4f}\")\n",
    "print(f\"PSM ATE on Acquisition Cost: {cost_diff.mean():.4f}\")\n"
   ]
  },
  {
   "cell_type": "code",
   "execution_count": 49,
   "metadata": {},
   "outputs": [
    {
     "name": "stdout",
     "output_type": "stream",
     "text": [
      "T-statistic for Conversion Rate: 112.0477, p-value: 0.0000\n",
      "There is a statistically significant difference in simulated conversion rates between treated and matched controls.\n"
     ]
    }
   ],
   "source": [
    "# Compare means of simulated conversion rate between treated and control groups\n",
    "# T-test for Simulated Conversion Rate\n",
    "t_stat, p_val = stats.ttest_ind(treated['Simulated_Conversion_Rate'], matched_controls['Simulated_Conversion_Rate'])\n",
    "print(f\"T-statistic for Conversion Rate: {t_stat:.4f}, p-value: {p_val:.4f}\")\n",
    "if p_val < 0.05:\n",
    "    print(\"There is a statistically significant difference in simulated conversion rates between treated and matched controls.\")\n",
    "else:\n",
    "    print(\"There is no statistically significant difference in simulated conversion rates between treated and matched controls.\")"
   ]
  },
  {
   "cell_type": "markdown",
   "metadata": {},
   "source": []
  }
 ],
 "metadata": {
  "kernelspec": {
   "display_name": ".venv",
   "language": "python",
   "name": "python3"
  },
  "language_info": {
   "codemirror_mode": {
    "name": "ipython",
    "version": 3
   },
   "file_extension": ".py",
   "mimetype": "text/x-python",
   "name": "python",
   "nbconvert_exporter": "python",
   "pygments_lexer": "ipython3",
   "version": "3.9.6"
  }
 },
 "nbformat": 4,
 "nbformat_minor": 2
}
